{
 "metadata": {
  "language_info": {
   "codemirror_mode": {
    "name": "ipython",
    "version": 3
   },
   "file_extension": ".py",
   "mimetype": "text/x-python",
   "name": "python",
   "nbconvert_exporter": "python",
   "pygments_lexer": "ipython3",
   "version": "3.6.9-final"
  },
  "orig_nbformat": 2,
  "kernelspec": {
   "name": "python36964bitenvvenvde88aacb140049cab59668ffa038508f",
   "display_name": "Python 3.6.9 64-bit ('env': venv)"
  }
 },
 "nbformat": 4,
 "nbformat_minor": 2,
 "cells": [
  {
   "cell_type": "code",
   "execution_count": 102,
   "metadata": {},
   "outputs": [],
   "source": [
    "from pre_processing import preprocess"
   ]
  },
  {
   "cell_type": "code",
   "execution_count": 103,
   "metadata": {},
   "outputs": [],
   "source": [
    "data = [\n",
    "    \"Shipment of gold damaged in a fire\",\n",
    "    \"Delivery of silver arrived in a truck\",\n",
    "    \"Shipment of gold arrived in a truck\"\n",
    "]"
   ]
  },
  {
   "cell_type": "code",
   "execution_count": 104,
   "metadata": {},
   "outputs": [],
   "source": [
    "query = \"gold silver truck\""
   ]
  },
  {
   "cell_type": "code",
   "execution_count": 105,
   "metadata": {},
   "outputs": [
    {
     "output_type": "execute_result",
     "data": {
      "text/plain": "[set(), {'therefore', 'think'}, set(), {'let'}]"
     },
     "metadata": {},
     "execution_count": 105
    }
   ],
   "source": [
    "processed_data = [set(preprocess(i)) for i in data]\n",
    "processed_data"
   ]
  },
  {
   "cell_type": "code",
   "execution_count": 93,
   "metadata": {},
   "outputs": [
    {
     "output_type": "execute_result",
     "data": {
      "text/plain": "{'gold', 'silver', 'truck'}"
     },
     "metadata": {},
     "execution_count": 93
    }
   ],
   "source": [
    "query = set(preprocess(query))\n",
    "query"
   ]
  },
  {
   "cell_type": "code",
   "execution_count": 94,
   "metadata": {
    "tags": []
   },
   "outputs": [
    {
     "output_type": "execute_result",
     "data": {
      "text/plain": "{'arrive', 'damage', 'delivery', 'fire', 'gold', 'shipment', 'silver', 'truck'}"
     },
     "metadata": {},
     "execution_count": 94
    }
   ],
   "source": [
    "vocab = set()\n",
    "for i in processed_data:\n",
    "    vocab = vocab.union(i)\n",
    "\n",
    "vocab"
   ]
  },
  {
   "cell_type": "code",
   "execution_count": 95,
   "metadata": {},
   "outputs": [
    {
     "output_type": "execute_result",
     "data": {
      "text/plain": "{0: 'fire',\n 1: 'arrive',\n 2: 'delivery',\n 3: 'shipment',\n 4: 'silver',\n 5: 'truck',\n 6: 'gold',\n 7: 'damage'}"
     },
     "metadata": {},
     "execution_count": 95
    }
   ],
   "source": [
    "wrd2ind = {}\n",
    "ind2wrd = {}\n",
    "c=0\n",
    "for i in vocab:\n",
    "    wrd2ind[i] = c\n",
    "    ind2wrd[c] = i\n",
    "    c+=1\n",
    "ind2wrd"
   ]
  },
  {
   "cell_type": "code",
   "execution_count": 96,
   "metadata": {},
   "outputs": [],
   "source": [
    "keyword_connection_matrix = [[None for i in range(len(vocab))] for j in range(len(vocab))]"
   ]
  },
  {
   "cell_type": "code",
   "execution_count": 97,
   "metadata": {
    "tags": []
   },
   "outputs": [
    {
     "output_type": "execute_result",
     "data": {
      "text/plain": "[[None, 0.0, 0.0, 0.5, 0.0, 0.0, 0.5, 1.0],\n [0.0, None, 0.5, 0.3333333333333333, 0.5, 1.0, 0.3333333333333333, 0.0],\n [0.0, 0.5, None, 0.0, 1.0, 0.5, 0.0, 0.0],\n [0.5, 0.3333333333333333, 0.0, None, 0.0, 0.3333333333333333, 1.0, 0.5],\n [0.0, 0.5, 1.0, 0.0, None, 0.5, 0.0, 0.0],\n [0.0, 1.0, 0.5, 0.3333333333333333, 0.5, None, 0.3333333333333333, 0.0],\n [0.5, 0.3333333333333333, 0.0, 1.0, 0.0, 0.3333333333333333, None, 0.5],\n [1.0, 0.0, 0.0, 0.5, 0.0, 0.0, 0.5, None]]"
     },
     "metadata": {},
     "execution_count": 97
    }
   ],
   "source": [
    "for i in range(len(vocab)):\n",
    "    for j in range(i+1,len(vocab)):\n",
    "        c_i=0\n",
    "        c_j=0\n",
    "        c_ij=0\n",
    "        wi = ind2wrd[i]\n",
    "        wj = ind2wrd[j]\n",
    "        for doc in processed_data:\n",
    "            #print(doc)\n",
    "            if wi in doc:\n",
    "                c_i+=1\n",
    "            if wj in doc:\n",
    "                c_j+=1\n",
    "            if wi in doc and wj in doc:\n",
    "                c_ij+=1\n",
    "        #print(wi,wj,c_i,c_j,c_ij)\n",
    "        keyword_connection_matrix[i][j] = c_ij/(c_i+c_j-c_ij)\n",
    "        keyword_connection_matrix[j][i] = c_ij/(c_i+c_j-c_ij)        \n",
    "\n",
    "keyword_connection_matrix     "
   ]
  },
  {
   "cell_type": "code",
   "execution_count": 98,
   "metadata": {},
   "outputs": [],
   "source": [
    "membership_matrix = [[None for i in range(len(query))] for j in range(len(processed_data))]"
   ]
  },
  {
   "cell_type": "code",
   "execution_count": 99,
   "metadata": {},
   "outputs": [
    {
     "output_type": "execute_result",
     "data": {
      "text/plain": "[[0.0, 0.5555555555555555, 1.0],\n [1.0, 1.0, 0.5555555555555555],\n [0.75, 1.0, 1.0]]"
     },
     "metadata": {},
     "execution_count": 99
    }
   ],
   "source": [
    "for i in range(len(processed_data)):\n",
    "    jc=0\n",
    "    for j in query:\n",
    "        ind_j = wrd2ind[j]\n",
    "        relation=1\n",
    "        for k in processed_data[i]:\n",
    "            ind_k = wrd2ind[k]\n",
    "            if ind_j==ind_k:\n",
    "                continue\n",
    "            relation*=(1-keyword_connection_matrix[ind_j][ind_k])\n",
    "\n",
    "\n",
    "        membership_matrix[i][jc] =  1-relation\n",
    "        jc+=1\n",
    "\n",
    "membership_matrix"
   ]
  },
  {
   "cell_type": "code",
   "execution_count": 100,
   "metadata": {},
   "outputs": [],
   "source": [
    "ranking = [(i,min(membership_matrix[i])) for i in range(len(membership_matrix))]\n",
    "ranking.sort(reverse=True , key= lambda x: x[1])"
   ]
  },
  {
   "cell_type": "code",
   "execution_count": 101,
   "metadata": {
    "tags": []
   },
   "outputs": [
    {
     "output_type": "stream",
     "name": "stdout",
     "text": "2\n1\n0\n"
    }
   ],
   "source": [
    "for i in ranking:\n",
    "    print(i[0])"
   ]
  },
  {
   "cell_type": "code",
   "execution_count": null,
   "metadata": {},
   "outputs": [],
   "source": []
  },
  {
   "cell_type": "code",
   "execution_count": null,
   "metadata": {},
   "outputs": [],
   "source": []
  },
  {
   "cell_type": "code",
   "execution_count": null,
   "metadata": {},
   "outputs": [],
   "source": []
  }
 ]
}